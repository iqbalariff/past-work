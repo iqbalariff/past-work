{
 "cells": [
  {
   "cell_type": "code",
   "execution_count": 1,
   "id": "a6b9cb56",
   "metadata": {},
   "outputs": [
    {
     "name": "stderr",
     "output_type": "stream",
     "text": [
      "C:\\Users\\lmugi\\AppData\\Local\\Temp/ipykernel_2512/2773570825.py:5: FutureWarning: Passing a negative integer is deprecated in version 1.0 and will not be supported in future version. Instead, use None to not limit the column width.\n",
      "  pd.set_option(\"display.max_colwidth\", -1)\n"
     ]
    }
   ],
   "source": [
    "import pandas as pd\n",
    "import numpy as np\n",
    "import re\n",
    "\n",
    "pd.set_option(\"display.max_colwidth\", -1)\n",
    "pd.options.mode.chained_assignment = None  # default='warn'"
   ]
  },
  {
   "cell_type": "code",
   "execution_count": 2,
   "id": "29c733d1",
   "metadata": {},
   "outputs": [
    {
     "data": {
      "text/html": [
       "<div>\n",
       "<style scoped>\n",
       "    .dataframe tbody tr th:only-of-type {\n",
       "        vertical-align: middle;\n",
       "    }\n",
       "\n",
       "    .dataframe tbody tr th {\n",
       "        vertical-align: top;\n",
       "    }\n",
       "\n",
       "    .dataframe thead th {\n",
       "        text-align: right;\n",
       "    }\n",
       "</style>\n",
       "<table border=\"1\" class=\"dataframe\">\n",
       "  <thead>\n",
       "    <tr style=\"text-align: right;\">\n",
       "      <th></th>\n",
       "      <th>date</th>\n",
       "      <th>Label</th>\n",
       "      <th>preprocess_tweet</th>\n",
       "      <th>Score</th>\n",
       "      <th>Scoring String</th>\n",
       "      <th>Negativity</th>\n",
       "      <th>Positivity</th>\n",
       "      <th>Uncovered Tokens</th>\n",
       "      <th>Total Tokens</th>\n",
       "      <th>Sentiment</th>\n",
       "    </tr>\n",
       "  </thead>\n",
       "  <tbody>\n",
       "    <tr>\n",
       "      <th>0</th>\n",
       "      <td>Jun-22</td>\n",
       "      <td>Digi Line</td>\n",
       "      <td>not interior yesterday send tapai customer house taman setia perdana setia alam line digi bar urban area â â</td>\n",
       "      <td>-0.465321</td>\n",
       "      <td>not (-0.50)  interior (0.05)  send (0.03)  line (-0.05)</td>\n",
       "      <td>0.569358</td>\n",
       "      <td>0.104037</td>\n",
       "      <td>15</td>\n",
       "      <td>19</td>\n",
       "      <td>Negative</td>\n",
       "    </tr>\n",
       "    <tr>\n",
       "      <th>1</th>\n",
       "      <td>Jun-22</td>\n",
       "      <td>Digi Line</td>\n",
       "      <td>ur line suck place fix asap already line bar always show linebar also dont haveðÿ â â</td>\n",
       "      <td>-0.913303</td>\n",
       "      <td>line (-0.05)  suck (-1.00)  place (0.07)  already (0.02)  line (-0.05)  show (0.10)</td>\n",
       "      <td>1.138715</td>\n",
       "      <td>0.225413</td>\n",
       "      <td>11</td>\n",
       "      <td>17</td>\n",
       "      <td>Negative</td>\n",
       "    </tr>\n",
       "    <tr>\n",
       "      <th>2</th>\n",
       "      <td>Jun-22</td>\n",
       "      <td>Digi Line</td>\n",
       "      <td>hi can know bought internet package rm day gb data internet line slow different buying package please explain buy every day rm</td>\n",
       "      <td>-0.393120</td>\n",
       "      <td>know (0.21)  day (0.07)  line (-0.05)  slow (-1.00)  different (0.10)  please (0.10)  buy (0.09)  every (0.02)  day (0.07)</td>\n",
       "      <td>1.138715</td>\n",
       "      <td>0.745596</td>\n",
       "      <td>13</td>\n",
       "      <td>22</td>\n",
       "      <td>Negative</td>\n",
       "    </tr>\n",
       "    <tr>\n",
       "      <th>3</th>\n",
       "      <td>Jun-22</td>\n",
       "      <td>Digi Line</td>\n",
       "      <td>line slow day back port klang shah know seremban also face problem</td>\n",
       "      <td>-0.995963</td>\n",
       "      <td>line (-0.05)  slow (-1.00)  day (0.07)  back (-0.02)  know (0.21)  face (-0.10)  problem (-0.10)</td>\n",
       "      <td>1.342752</td>\n",
       "      <td>0.346789</td>\n",
       "      <td>5</td>\n",
       "      <td>12</td>\n",
       "      <td>Negative</td>\n",
       "    </tr>\n",
       "    <tr>\n",
       "      <th>4</th>\n",
       "      <td>Jun-22</td>\n",
       "      <td>Digi Line</td>\n",
       "      <td>bad right line lately central kuala lumpur oiii</td>\n",
       "      <td>-0.139817</td>\n",
       "      <td>bad (-0.66)  right (0.57)  line (-0.05)</td>\n",
       "      <td>0.833394</td>\n",
       "      <td>0.693577</td>\n",
       "      <td>5</td>\n",
       "      <td>8</td>\n",
       "      <td>Negative</td>\n",
       "    </tr>\n",
       "    <tr>\n",
       "      <th>...</th>\n",
       "      <td>...</td>\n",
       "      <td>...</td>\n",
       "      <td>...</td>\n",
       "      <td>...</td>\n",
       "      <td>...</td>\n",
       "      <td>...</td>\n",
       "      <td>...</td>\n",
       "      <td>...</td>\n",
       "      <td>...</td>\n",
       "      <td>...</td>\n",
       "    </tr>\n",
       "    <tr>\n",
       "      <th>7388</th>\n",
       "      <td>Jan-20</td>\n",
       "      <td>Unifi Line</td>\n",
       "      <td>vlive unifi lenovo tnb mane relate beg not make lose patience hope cute naughty boy perform whatever want happen internet line mcm snail laptop turn electricity blackout much</td>\n",
       "      <td>-1.317156</td>\n",
       "      <td>relate (0.03)  beg (-0.02)  not (-0.50)  make (0.36)  lose (-0.66)  patience (0.10)  hope (0.10)  cute (0.07)  naughty (-0.10)  boy (-0.02)  want (-0.07)  happen (-0.05)  line (-0.05)  snail (-0.66)  turn (0.05)  electricity (0.05)  much (0.03)</td>\n",
       "      <td>2.513577</td>\n",
       "      <td>1.196421</td>\n",
       "      <td>11</td>\n",
       "      <td>28</td>\n",
       "      <td>Negative</td>\n",
       "    </tr>\n",
       "    <tr>\n",
       "      <th>7389</th>\n",
       "      <td>Jan-20</td>\n",
       "      <td>Unifi Line</td>\n",
       "      <td>unifi line melaka really challenge faith</td>\n",
       "      <td>0.052018</td>\n",
       "      <td>line (-0.05)  really (0.05)  challenge (0.05)</td>\n",
       "      <td>0.104037</td>\n",
       "      <td>0.156055</td>\n",
       "      <td>3</td>\n",
       "      <td>6</td>\n",
       "      <td>Positive</td>\n",
       "    </tr>\n",
       "    <tr>\n",
       "      <th>7390</th>\n",
       "      <td>Jan-20</td>\n",
       "      <td>Unifi Line</td>\n",
       "      <td>unifi slow n no connection streamyx affect x line like cibai line hack bro please clarify pls open hotspot data</td>\n",
       "      <td>-0.930642</td>\n",
       "      <td>slow (-1.00)  no (-0.19)  affect (0.00)  line (-0.05)  like (0.33)  line (-0.05)  please (0.10)  open (-0.10)  hotspot (0.03)</td>\n",
       "      <td>1.693577</td>\n",
       "      <td>0.762935</td>\n",
       "      <td>11</td>\n",
       "      <td>20</td>\n",
       "      <td>Negative</td>\n",
       "    </tr>\n",
       "    <tr>\n",
       "      <th>7391</th>\n",
       "      <td>Jan-20</td>\n",
       "      <td>Unifi Line</td>\n",
       "      <td>remind unifi line fast humid ade laa</td>\n",
       "      <td>0.982661</td>\n",
       "      <td>line (-0.05)  fast (1.00)  humid (0.03)</td>\n",
       "      <td>0.069358</td>\n",
       "      <td>1.052018</td>\n",
       "      <td>4</td>\n",
       "      <td>7</td>\n",
       "      <td>Positive</td>\n",
       "    </tr>\n",
       "    <tr>\n",
       "      <th>7392</th>\n",
       "      <td>Jan-20</td>\n",
       "      <td>Unifi Line</td>\n",
       "      <td>phone line problem report th dec not resolve today</td>\n",
       "      <td>-0.860642</td>\n",
       "      <td>line (-0.05)  problem (-0.10)  report (-0.33)  not (-0.50)  resolve (0.07)  today (0.05)</td>\n",
       "      <td>0.999358</td>\n",
       "      <td>0.138715</td>\n",
       "      <td>3</td>\n",
       "      <td>9</td>\n",
       "      <td>Negative</td>\n",
       "    </tr>\n",
       "  </tbody>\n",
       "</table>\n",
       "<p>7393 rows × 10 columns</p>\n",
       "</div>"
      ],
      "text/plain": [
       "        date       Label  \\\n",
       "0     Jun-22  Digi Line    \n",
       "1     Jun-22  Digi Line    \n",
       "2     Jun-22  Digi Line    \n",
       "3     Jun-22  Digi Line    \n",
       "4     Jun-22  Digi Line    \n",
       "...      ...        ...    \n",
       "7388  Jan-20  Unifi Line   \n",
       "7389  Jan-20  Unifi Line   \n",
       "7390  Jan-20  Unifi Line   \n",
       "7391  Jan-20  Unifi Line   \n",
       "7392  Jan-20  Unifi Line   \n",
       "\n",
       "                                                                                                                                                                    preprocess_tweet  \\\n",
       "0     not interior yesterday send tapai customer house taman setia perdana setia alam line digi bar urban area â â                                                                     \n",
       "1     ur line suck place fix asap already line bar always show linebar also dont haveðÿ â â                                                                                            \n",
       "2     hi can know bought internet package rm day gb data internet line slow different buying package please explain buy every day rm                                                   \n",
       "3     line slow day back port klang shah know seremban also face problem                                                                                                               \n",
       "4     bad right line lately central kuala lumpur oiii                                                                                                                                  \n",
       "...                                               ...                                                                                                                                  \n",
       "7388  vlive unifi lenovo tnb mane relate beg not make lose patience hope cute naughty boy perform whatever want happen internet line mcm snail laptop turn electricity blackout much   \n",
       "7389  unifi line melaka really challenge faith                                                                                                                                         \n",
       "7390  unifi slow n no connection streamyx affect x line like cibai line hack bro please clarify pls open hotspot data                                                                  \n",
       "7391  remind unifi line fast humid ade laa                                                                                                                                             \n",
       "7392  phone line problem report th dec not resolve today                                                                                                                               \n",
       "\n",
       "         Score  \\\n",
       "0    -0.465321   \n",
       "1    -0.913303   \n",
       "2    -0.393120   \n",
       "3    -0.995963   \n",
       "4    -0.139817   \n",
       "...        ...   \n",
       "7388 -1.317156   \n",
       "7389  0.052018   \n",
       "7390 -0.930642   \n",
       "7391  0.982661   \n",
       "7392 -0.860642   \n",
       "\n",
       "                                                                                                                                                                                                                                            Scoring String  \\\n",
       "0     not (-0.50)  interior (0.05)  send (0.03)  line (-0.05)                                                                                                                                                                                                \n",
       "1     line (-0.05)  suck (-1.00)  place (0.07)  already (0.02)  line (-0.05)  show (0.10)                                                                                                                                                                    \n",
       "2     know (0.21)  day (0.07)  line (-0.05)  slow (-1.00)  different (0.10)  please (0.10)  buy (0.09)  every (0.02)  day (0.07)                                                                                                                             \n",
       "3     line (-0.05)  slow (-1.00)  day (0.07)  back (-0.02)  know (0.21)  face (-0.10)  problem (-0.10)                                                                                                                                                       \n",
       "4     bad (-0.66)  right (0.57)  line (-0.05)                                                                                                                                                                                                                \n",
       "...                                       ...                                                                                                                                                                                                                \n",
       "7388  relate (0.03)  beg (-0.02)  not (-0.50)  make (0.36)  lose (-0.66)  patience (0.10)  hope (0.10)  cute (0.07)  naughty (-0.10)  boy (-0.02)  want (-0.07)  happen (-0.05)  line (-0.05)  snail (-0.66)  turn (0.05)  electricity (0.05)  much (0.03)   \n",
       "7389  line (-0.05)  really (0.05)  challenge (0.05)                                                                                                                                                                                                          \n",
       "7390  slow (-1.00)  no (-0.19)  affect (0.00)  line (-0.05)  like (0.33)  line (-0.05)  please (0.10)  open (-0.10)  hotspot (0.03)                                                                                                                          \n",
       "7391  line (-0.05)  fast (1.00)  humid (0.03)                                                                                                                                                                                                                \n",
       "7392  line (-0.05)  problem (-0.10)  report (-0.33)  not (-0.50)  resolve (0.07)  today (0.05)                                                                                                                                                               \n",
       "\n",
       "      Negativity  Positivity  Uncovered Tokens  Total Tokens Sentiment  \n",
       "0     0.569358    0.104037    15                19            Negative  \n",
       "1     1.138715    0.225413    11                17            Negative  \n",
       "2     1.138715    0.745596    13                22            Negative  \n",
       "3     1.342752    0.346789    5                 12            Negative  \n",
       "4     0.833394    0.693577    5                 8             Negative  \n",
       "...        ...         ...   ..                ..                  ...  \n",
       "7388  2.513577    1.196421    11                28            Negative  \n",
       "7389  0.104037    0.156055    3                 6             Positive  \n",
       "7390  1.693577    0.762935    11                20            Negative  \n",
       "7391  0.069358    1.052018    4                 7             Positive  \n",
       "7392  0.999358    0.138715    3                 9             Negative  \n",
       "\n",
       "[7393 rows x 10 columns]"
      ]
     },
     "execution_count": 2,
     "metadata": {},
     "output_type": "execute_result"
    }
   ],
   "source": [
    "df = pd.read_excel(\"sentiword sentiment line dataset.xlsx\")\n",
    "df "
   ]
  },
  {
   "cell_type": "code",
   "execution_count": 4,
   "id": "3f2d8a54",
   "metadata": {
    "scrolled": true
   },
   "outputs": [
    {
     "data": {
      "text/html": [
       "<div>\n",
       "<style scoped>\n",
       "    .dataframe tbody tr th:only-of-type {\n",
       "        vertical-align: middle;\n",
       "    }\n",
       "\n",
       "    .dataframe tbody tr th {\n",
       "        vertical-align: top;\n",
       "    }\n",
       "\n",
       "    .dataframe thead th {\n",
       "        text-align: right;\n",
       "    }\n",
       "</style>\n",
       "<table border=\"1\" class=\"dataframe\">\n",
       "  <thead>\n",
       "    <tr style=\"text-align: right;\">\n",
       "      <th></th>\n",
       "      <th>date</th>\n",
       "      <th>Label</th>\n",
       "      <th>preprocess_tweet</th>\n",
       "      <th>Score</th>\n",
       "      <th>Scoring String</th>\n",
       "      <th>Negativity</th>\n",
       "      <th>Positivity</th>\n",
       "      <th>Uncovered Tokens</th>\n",
       "      <th>Total Tokens</th>\n",
       "      <th>Sentiment</th>\n",
       "      <th>Sentiment Numerical Label</th>\n",
       "    </tr>\n",
       "  </thead>\n",
       "  <tbody>\n",
       "    <tr>\n",
       "      <th>0</th>\n",
       "      <td>Jun-22</td>\n",
       "      <td>Digi Line</td>\n",
       "      <td>not interior yesterday send tapai customer house taman setia perdana setia alam line digi bar urban area â â</td>\n",
       "      <td>-0.465321</td>\n",
       "      <td>not (-0.50)  interior (0.05)  send (0.03)  line (-0.05)</td>\n",
       "      <td>0.569358</td>\n",
       "      <td>0.104037</td>\n",
       "      <td>15</td>\n",
       "      <td>19</td>\n",
       "      <td>Negative</td>\n",
       "      <td>-1</td>\n",
       "    </tr>\n",
       "    <tr>\n",
       "      <th>1</th>\n",
       "      <td>Jun-22</td>\n",
       "      <td>Digi Line</td>\n",
       "      <td>ur line suck place fix asap already line bar always show linebar also dont haveðÿ â â</td>\n",
       "      <td>-0.913303</td>\n",
       "      <td>line (-0.05)  suck (-1.00)  place (0.07)  already (0.02)  line (-0.05)  show (0.10)</td>\n",
       "      <td>1.138715</td>\n",
       "      <td>0.225413</td>\n",
       "      <td>11</td>\n",
       "      <td>17</td>\n",
       "      <td>Negative</td>\n",
       "      <td>-1</td>\n",
       "    </tr>\n",
       "    <tr>\n",
       "      <th>2</th>\n",
       "      <td>Jun-22</td>\n",
       "      <td>Digi Line</td>\n",
       "      <td>hi can know bought internet package rm day gb data internet line slow different buying package please explain buy every day rm</td>\n",
       "      <td>-0.393120</td>\n",
       "      <td>know (0.21)  day (0.07)  line (-0.05)  slow (-1.00)  different (0.10)  please (0.10)  buy (0.09)  every (0.02)  day (0.07)</td>\n",
       "      <td>1.138715</td>\n",
       "      <td>0.745596</td>\n",
       "      <td>13</td>\n",
       "      <td>22</td>\n",
       "      <td>Negative</td>\n",
       "      <td>-1</td>\n",
       "    </tr>\n",
       "    <tr>\n",
       "      <th>3</th>\n",
       "      <td>Jun-22</td>\n",
       "      <td>Digi Line</td>\n",
       "      <td>line slow day back port klang shah know seremban also face problem</td>\n",
       "      <td>-0.995963</td>\n",
       "      <td>line (-0.05)  slow (-1.00)  day (0.07)  back (-0.02)  know (0.21)  face (-0.10)  problem (-0.10)</td>\n",
       "      <td>1.342752</td>\n",
       "      <td>0.346789</td>\n",
       "      <td>5</td>\n",
       "      <td>12</td>\n",
       "      <td>Negative</td>\n",
       "      <td>-1</td>\n",
       "    </tr>\n",
       "    <tr>\n",
       "      <th>4</th>\n",
       "      <td>Jun-22</td>\n",
       "      <td>Digi Line</td>\n",
       "      <td>bad right line lately central kuala lumpur oiii</td>\n",
       "      <td>-0.139817</td>\n",
       "      <td>bad (-0.66)  right (0.57)  line (-0.05)</td>\n",
       "      <td>0.833394</td>\n",
       "      <td>0.693577</td>\n",
       "      <td>5</td>\n",
       "      <td>8</td>\n",
       "      <td>Negative</td>\n",
       "      <td>-1</td>\n",
       "    </tr>\n",
       "    <tr>\n",
       "      <th>...</th>\n",
       "      <td>...</td>\n",
       "      <td>...</td>\n",
       "      <td>...</td>\n",
       "      <td>...</td>\n",
       "      <td>...</td>\n",
       "      <td>...</td>\n",
       "      <td>...</td>\n",
       "      <td>...</td>\n",
       "      <td>...</td>\n",
       "      <td>...</td>\n",
       "      <td>...</td>\n",
       "    </tr>\n",
       "    <tr>\n",
       "      <th>7388</th>\n",
       "      <td>Jan-20</td>\n",
       "      <td>Unifi Line</td>\n",
       "      <td>vlive unifi lenovo tnb mane relate beg not make lose patience hope cute naughty boy perform whatever want happen internet line mcm snail laptop turn electricity blackout much</td>\n",
       "      <td>-1.317156</td>\n",
       "      <td>relate (0.03)  beg (-0.02)  not (-0.50)  make (0.36)  lose (-0.66)  patience (0.10)  hope (0.10)  cute (0.07)  naughty (-0.10)  boy (-0.02)  want (-0.07)  happen (-0.05)  line (-0.05)  snail (-0.66)  turn (0.05)  electricity (0.05)  much (0.03)</td>\n",
       "      <td>2.513577</td>\n",
       "      <td>1.196421</td>\n",
       "      <td>11</td>\n",
       "      <td>28</td>\n",
       "      <td>Negative</td>\n",
       "      <td>-1</td>\n",
       "    </tr>\n",
       "    <tr>\n",
       "      <th>7389</th>\n",
       "      <td>Jan-20</td>\n",
       "      <td>Unifi Line</td>\n",
       "      <td>unifi line melaka really challenge faith</td>\n",
       "      <td>0.052018</td>\n",
       "      <td>line (-0.05)  really (0.05)  challenge (0.05)</td>\n",
       "      <td>0.104037</td>\n",
       "      <td>0.156055</td>\n",
       "      <td>3</td>\n",
       "      <td>6</td>\n",
       "      <td>Positive</td>\n",
       "      <td>1</td>\n",
       "    </tr>\n",
       "    <tr>\n",
       "      <th>7390</th>\n",
       "      <td>Jan-20</td>\n",
       "      <td>Unifi Line</td>\n",
       "      <td>unifi slow n no connection streamyx affect x line like cibai line hack bro please clarify pls open hotspot data</td>\n",
       "      <td>-0.930642</td>\n",
       "      <td>slow (-1.00)  no (-0.19)  affect (0.00)  line (-0.05)  like (0.33)  line (-0.05)  please (0.10)  open (-0.10)  hotspot (0.03)</td>\n",
       "      <td>1.693577</td>\n",
       "      <td>0.762935</td>\n",
       "      <td>11</td>\n",
       "      <td>20</td>\n",
       "      <td>Negative</td>\n",
       "      <td>-1</td>\n",
       "    </tr>\n",
       "    <tr>\n",
       "      <th>7391</th>\n",
       "      <td>Jan-20</td>\n",
       "      <td>Unifi Line</td>\n",
       "      <td>remind unifi line fast humid ade laa</td>\n",
       "      <td>0.982661</td>\n",
       "      <td>line (-0.05)  fast (1.00)  humid (0.03)</td>\n",
       "      <td>0.069358</td>\n",
       "      <td>1.052018</td>\n",
       "      <td>4</td>\n",
       "      <td>7</td>\n",
       "      <td>Positive</td>\n",
       "      <td>1</td>\n",
       "    </tr>\n",
       "    <tr>\n",
       "      <th>7392</th>\n",
       "      <td>Jan-20</td>\n",
       "      <td>Unifi Line</td>\n",
       "      <td>phone line problem report th dec not resolve today</td>\n",
       "      <td>-0.860642</td>\n",
       "      <td>line (-0.05)  problem (-0.10)  report (-0.33)  not (-0.50)  resolve (0.07)  today (0.05)</td>\n",
       "      <td>0.999358</td>\n",
       "      <td>0.138715</td>\n",
       "      <td>3</td>\n",
       "      <td>9</td>\n",
       "      <td>Negative</td>\n",
       "      <td>-1</td>\n",
       "    </tr>\n",
       "  </tbody>\n",
       "</table>\n",
       "<p>7393 rows × 11 columns</p>\n",
       "</div>"
      ],
      "text/plain": [
       "        date       Label  \\\n",
       "0     Jun-22  Digi Line    \n",
       "1     Jun-22  Digi Line    \n",
       "2     Jun-22  Digi Line    \n",
       "3     Jun-22  Digi Line    \n",
       "4     Jun-22  Digi Line    \n",
       "...      ...        ...    \n",
       "7388  Jan-20  Unifi Line   \n",
       "7389  Jan-20  Unifi Line   \n",
       "7390  Jan-20  Unifi Line   \n",
       "7391  Jan-20  Unifi Line   \n",
       "7392  Jan-20  Unifi Line   \n",
       "\n",
       "                                                                                                                                                                    preprocess_tweet  \\\n",
       "0     not interior yesterday send tapai customer house taman setia perdana setia alam line digi bar urban area â â                                                                     \n",
       "1     ur line suck place fix asap already line bar always show linebar also dont haveðÿ â â                                                                                            \n",
       "2     hi can know bought internet package rm day gb data internet line slow different buying package please explain buy every day rm                                                   \n",
       "3     line slow day back port klang shah know seremban also face problem                                                                                                               \n",
       "4     bad right line lately central kuala lumpur oiii                                                                                                                                  \n",
       "...                                               ...                                                                                                                                  \n",
       "7388  vlive unifi lenovo tnb mane relate beg not make lose patience hope cute naughty boy perform whatever want happen internet line mcm snail laptop turn electricity blackout much   \n",
       "7389  unifi line melaka really challenge faith                                                                                                                                         \n",
       "7390  unifi slow n no connection streamyx affect x line like cibai line hack bro please clarify pls open hotspot data                                                                  \n",
       "7391  remind unifi line fast humid ade laa                                                                                                                                             \n",
       "7392  phone line problem report th dec not resolve today                                                                                                                               \n",
       "\n",
       "         Score  \\\n",
       "0    -0.465321   \n",
       "1    -0.913303   \n",
       "2    -0.393120   \n",
       "3    -0.995963   \n",
       "4    -0.139817   \n",
       "...        ...   \n",
       "7388 -1.317156   \n",
       "7389  0.052018   \n",
       "7390 -0.930642   \n",
       "7391  0.982661   \n",
       "7392 -0.860642   \n",
       "\n",
       "                                                                                                                                                                                                                                            Scoring String  \\\n",
       "0     not (-0.50)  interior (0.05)  send (0.03)  line (-0.05)                                                                                                                                                                                                \n",
       "1     line (-0.05)  suck (-1.00)  place (0.07)  already (0.02)  line (-0.05)  show (0.10)                                                                                                                                                                    \n",
       "2     know (0.21)  day (0.07)  line (-0.05)  slow (-1.00)  different (0.10)  please (0.10)  buy (0.09)  every (0.02)  day (0.07)                                                                                                                             \n",
       "3     line (-0.05)  slow (-1.00)  day (0.07)  back (-0.02)  know (0.21)  face (-0.10)  problem (-0.10)                                                                                                                                                       \n",
       "4     bad (-0.66)  right (0.57)  line (-0.05)                                                                                                                                                                                                                \n",
       "...                                       ...                                                                                                                                                                                                                \n",
       "7388  relate (0.03)  beg (-0.02)  not (-0.50)  make (0.36)  lose (-0.66)  patience (0.10)  hope (0.10)  cute (0.07)  naughty (-0.10)  boy (-0.02)  want (-0.07)  happen (-0.05)  line (-0.05)  snail (-0.66)  turn (0.05)  electricity (0.05)  much (0.03)   \n",
       "7389  line (-0.05)  really (0.05)  challenge (0.05)                                                                                                                                                                                                          \n",
       "7390  slow (-1.00)  no (-0.19)  affect (0.00)  line (-0.05)  like (0.33)  line (-0.05)  please (0.10)  open (-0.10)  hotspot (0.03)                                                                                                                          \n",
       "7391  line (-0.05)  fast (1.00)  humid (0.03)                                                                                                                                                                                                                \n",
       "7392  line (-0.05)  problem (-0.10)  report (-0.33)  not (-0.50)  resolve (0.07)  today (0.05)                                                                                                                                                               \n",
       "\n",
       "      Negativity  Positivity  Uncovered Tokens  Total Tokens Sentiment  \\\n",
       "0     0.569358    0.104037    15                19            Negative   \n",
       "1     1.138715    0.225413    11                17            Negative   \n",
       "2     1.138715    0.745596    13                22            Negative   \n",
       "3     1.342752    0.346789    5                 12            Negative   \n",
       "4     0.833394    0.693577    5                 8             Negative   \n",
       "...        ...         ...   ..                ..                  ...   \n",
       "7388  2.513577    1.196421    11                28            Negative   \n",
       "7389  0.104037    0.156055    3                 6             Positive   \n",
       "7390  1.693577    0.762935    11                20            Negative   \n",
       "7391  0.069358    1.052018    4                 7             Positive   \n",
       "7392  0.999358    0.138715    3                 9             Negative   \n",
       "\n",
       "      Sentiment Numerical Label  \n",
       "0    -1                          \n",
       "1    -1                          \n",
       "2    -1                          \n",
       "3    -1                          \n",
       "4    -1                          \n",
       "...  ..                          \n",
       "7388 -1                          \n",
       "7389  1                          \n",
       "7390 -1                          \n",
       "7391  1                          \n",
       "7392 -1                          \n",
       "\n",
       "[7393 rows x 11 columns]"
      ]
     },
     "execution_count": 4,
     "metadata": {},
     "output_type": "execute_result"
    }
   ],
   "source": [
    "def sentiment_to_numeric(Sentiment):\n",
    "    if Sentiment == 'Positive':\n",
    "        return 1\n",
    "    elif Sentiment == 'Negative':\n",
    "        return -1\n",
    "    else:\n",
    "        return 0\n",
    "\n",
    "df['Sentiment Numerical Label'] = df['Sentiment'].apply(sentiment_to_numeric)\n",
    "df\n"
   ]
  },
  {
   "cell_type": "code",
   "execution_count": 5,
   "id": "714465ea",
   "metadata": {},
   "outputs": [],
   "source": [
    "new_df = df.loc[df['Sentiment Numerical Label']!=0]"
   ]
  },
  {
   "cell_type": "code",
   "execution_count": 6,
   "id": "abfc5aa0",
   "metadata": {
    "scrolled": true
   },
   "outputs": [
    {
     "data": {
      "text/plain": [
       "Negative    4905\n",
       "Positive    2337\n",
       "Name: Sentiment, dtype: int64"
      ]
     },
     "execution_count": 6,
     "metadata": {},
     "output_type": "execute_result"
    }
   ],
   "source": [
    "#new_df['Sentiment'].value_counts()\n",
    "new_df['Sentiment'].value_counts()"
   ]
  },
  {
   "cell_type": "code",
   "execution_count": 7,
   "id": "72c8dedc",
   "metadata": {},
   "outputs": [],
   "source": [
    "new_df.to_excel(\"no neutral sentiword sentiment line dataset.xlsx\")"
   ]
  },
  {
   "cell_type": "code",
   "execution_count": 32,
   "id": "6bbb7053",
   "metadata": {},
   "outputs": [],
   "source": [
    "#df = pd.read_excel(\"sentiwordnet labelling rapidminer.xlsx\")"
   ]
  },
  {
   "cell_type": "code",
   "execution_count": 33,
   "id": "f458e32a",
   "metadata": {},
   "outputs": [],
   "source": [
    "#new_df.to_excel(\"sentiwordenet label no neutral.xlsx\")"
   ]
  },
  {
   "cell_type": "code",
   "execution_count": 34,
   "id": "f9ed5c4b",
   "metadata": {
    "scrolled": true
   },
   "outputs": [
    {
     "data": {
      "text/plain": [
       "'\\nfrom matplotlib import pyplot as plt\\n\\nfrom wordcloud import WordCloud \\n\\nallWords = \\' \\'.join([twts for twts in df[\\'preprocess_tweet\\']])\\nwordcloud = WordCloud(width = 500, height = 300, random_state = 21, max_font_size = 119).generate(allWords)\\n\\nplt.imshow(wordcloud, interpolation = \"bilinear\")\\nplt.axis(\\'off\\')\\nplt.show()\\n\\nplt.figure(figsize = (8,6))\\nfor i in range(0, df.shape[0]):\\n    plt.scatter(df[\\'Sentiment Numerical Label\\'][i], df[\\'Sentiment\\'][i], color = \\'Blue\\')\\n\\nplt.title(\\'Sentiment Analysis\\')\\nplt.xlabel(\\'Sentiment Numerical Label\\')\\nplt.ylabel(\\'Sentiment\\')\\nplt.show()\\n'"
      ]
     },
     "execution_count": 34,
     "metadata": {},
     "output_type": "execute_result"
    }
   ],
   "source": [
    "\"\"\"\n",
    "from matplotlib import pyplot as plt\n",
    "\n",
    "from wordcloud import WordCloud \n",
    "\n",
    "allWords = ' '.join([twts for twts in df['preprocess_tweet']])\n",
    "wordcloud = WordCloud(width = 500, height = 300, random_state = 21, max_font_size = 119).generate(allWords)\n",
    "\n",
    "plt.imshow(wordcloud, interpolation = \"bilinear\")\n",
    "plt.axis('off')\n",
    "plt.show()\n",
    "\n",
    "plt.figure(figsize = (8,6))\n",
    "for i in range(0, df.shape[0]):\n",
    "    plt.scatter(df['Sentiment Numerical Label'][i], df['Sentiment'][i], color = 'Blue')\n",
    "\n",
    "plt.title('Sentiment Analysis')\n",
    "plt.xlabel('Sentiment Numerical Label')\n",
    "plt.ylabel('Sentiment')\n",
    "plt.show()\n",
    "\"\"\""
   ]
  },
  {
   "cell_type": "code",
   "execution_count": 8,
   "id": "dbf0942b",
   "metadata": {},
   "outputs": [],
   "source": [
    "X = new_df['preprocess_tweet']\n",
    "y =  new_df['Sentiment Numerical Label']"
   ]
  },
  {
   "cell_type": "code",
   "execution_count": 9,
   "id": "bce07368",
   "metadata": {},
   "outputs": [
    {
     "data": {
      "text/plain": [
       "Umobile Line    2094\n",
       "Celcom Line     1849\n",
       "Maxis Line      1286\n",
       "Digi Line       1040\n",
       "Unifi Line      1000\n",
       "Name: Label, dtype: int64"
      ]
     },
     "execution_count": 9,
     "metadata": {},
     "output_type": "execute_result"
    }
   ],
   "source": [
    "df.Label.value_counts()"
   ]
  },
  {
   "cell_type": "code",
   "execution_count": 37,
   "id": "c1f62d7f",
   "metadata": {},
   "outputs": [],
   "source": [
    "#!pip install imblearn"
   ]
  },
  {
   "cell_type": "code",
   "execution_count": 38,
   "id": "2600504d",
   "metadata": {},
   "outputs": [],
   "source": [
    "#!pip install --upgrade scikit-learn"
   ]
  },
  {
   "cell_type": "code",
   "execution_count": 10,
   "id": "1b4c0cec",
   "metadata": {},
   "outputs": [],
   "source": [
    "from sklearn.model_selection import train_test_split \n",
    "\n",
    "X_train, X_test, y_train, y_test = train_test_split(X, y, test_size=0.2, random_state=35, stratify =y)"
   ]
  },
  {
   "cell_type": "code",
   "execution_count": 11,
   "id": "dc7207ff",
   "metadata": {},
   "outputs": [],
   "source": [
    "new_df['preprocess_tweet'] = new_df['preprocess_tweet'].astype('U').values\n",
    "new_df.dropna(inplace=True)\n",
    "new_df.fillna(0, inplace=True)\n",
    "\n",
    "\n",
    "\n"
   ]
  },
  {
   "cell_type": "markdown",
   "id": "1461aa1d",
   "metadata": {},
   "source": [
    "## Tfidf vextorization"
   ]
  },
  {
   "cell_type": "code",
   "execution_count": 12,
   "id": "aa2eca66",
   "metadata": {},
   "outputs": [],
   "source": [
    "from sklearn.feature_extraction.text import TfidfVectorizer\n",
    "#tfidf vectorizer\n",
    "\n",
    "vectorizer = TfidfVectorizer()\n",
    "X_train_vec = vectorizer.fit_transform(X_train.astype(\"U\").str.lower())\n",
    "X_test_vec= vectorizer.transform(X_test.astype(\"U\").str.lower())"
   ]
  },
  {
   "cell_type": "code",
   "execution_count": 42,
   "id": "a178a2f3",
   "metadata": {},
   "outputs": [
    {
     "data": {
      "text/plain": [
       "\"\\nfrom collections import Counter\\nfrom imblearn.over_sampling import SMOTE \\n\\nprint('Original dataset shape {}'.format(Counter(y_train)))\\nsm = SMOTE(random_state=42)\\nX_res, y_res = sm.fit_resample(X_train_vec, y_train)\\nprint('Resampled dataset shape {}'.format(Counter(y_res)))\\n\""
      ]
     },
     "execution_count": 42,
     "metadata": {},
     "output_type": "execute_result"
    }
   ],
   "source": [
    "\"\"\"\n",
    "from collections import Counter\n",
    "from imblearn.over_sampling import SMOTE \n",
    "\n",
    "print('Original dataset shape {}'.format(Counter(y_train)))\n",
    "sm = SMOTE(random_state=42)\n",
    "X_res, y_res = sm.fit_resample(X_train_vec, y_train)\n",
    "print('Resampled dataset shape {}'.format(Counter(y_res)))\n",
    "\"\"\""
   ]
  },
  {
   "cell_type": "markdown",
   "id": "66aa7366",
   "metadata": {},
   "source": [
    "## NB"
   ]
  },
  {
   "cell_type": "code",
   "execution_count": 13,
   "id": "8adb87d8",
   "metadata": {},
   "outputs": [],
   "source": [
    "from sklearn.naive_bayes import MultinomialNB\n",
    "nb = MultinomialNB()\n",
    "\n",
    "nb.fit(X_train_vec, y_train)\n",
    "\n",
    "# make class predictions for X_test_vec\n",
    "y_pred_class = nb.predict(X_test_vec)"
   ]
  },
  {
   "cell_type": "code",
   "execution_count": 14,
   "id": "4e8ef735",
   "metadata": {
    "scrolled": true
   },
   "outputs": [
    {
     "name": "stdout",
     "output_type": "stream",
     "text": [
      "accuracy: 0.703\n",
      "confusion matrix:\n",
      "[[979   2]\n",
      " [428  40]]\n",
      "classification report:\n",
      "              precision    recall  f1-score   support\n",
      "\n",
      "          -1       0.70      1.00      0.82       981\n",
      "           1       0.95      0.09      0.16       468\n",
      "\n",
      "    accuracy                           0.70      1449\n",
      "   macro avg       0.82      0.54      0.49      1449\n",
      "weighted avg       0.78      0.70      0.61      1449\n",
      "\n"
     ]
    }
   ],
   "source": [
    "from sklearn import metrics\n",
    "\n",
    "# calculate accuracy of class predictions\n",
    "print('accuracy: %.3f' % metrics.accuracy_score(y_test, y_pred_class))\n",
    "# confusion matrix\n",
    "print('confusion matrix:')\n",
    "print(metrics.confusion_matrix(y_test, y_pred_class))\n",
    "# classification report\n",
    "print('classification report:')\n",
    "print(metrics.classification_report(y_test, y_pred_class))"
   ]
  },
  {
   "cell_type": "code",
   "execution_count": 15,
   "id": "b3951d3b",
   "metadata": {
    "scrolled": true
   },
   "outputs": [
    {
     "ename": "SyntaxError",
     "evalue": "invalid syntax (Temp/ipykernel_2512/274828882.py, line 10)",
     "output_type": "error",
     "traceback": [
      "\u001b[1;36m  File \u001b[1;32m\"C:\\Users\\lmugi\\AppData\\Local\\Temp/ipykernel_2512/274828882.py\"\u001b[1;36m, line \u001b[1;32m10\u001b[0m\n\u001b[1;33m    print('recall: %.3f' % recall_score(y_test, y_pred_class, average='macro'))X\u001b[0m\n\u001b[1;37m                                                                               ^\u001b[0m\n\u001b[1;31mSyntaxError\u001b[0m\u001b[1;31m:\u001b[0m invalid syntax\n"
     ]
    }
   ],
   "source": [
    "from sklearn.metrics import f1_score\n",
    "\n",
    "print('f-score: %.3f' % f1_score(y_test, y_pred_class, average='macro'))\n",
    " \n",
    "# precision and recall\n",
    "\n",
    "from sklearn.metrics import precision_score, recall_score\n",
    "\n",
    "print('precision: %.3f' % precision_score(y_test, y_pred_class, average='macro'))\n",
    "print('recall: %.3f' % recall_score(y_test, y_pred_class, average='macro'))X"
   ]
  },
  {
   "cell_type": "code",
   "execution_count": 16,
   "id": "fe053627",
   "metadata": {
    "scrolled": false
   },
   "outputs": [
    {
     "name": "stdout",
     "output_type": "stream",
     "text": [
      "Confusion matrix, without normalization\n",
      "[[979   2]\n",
      " [428  40]]\n"
     ]
    },
    {
     "data": {
      "image/png": "[encoded data removed]",
      "text/plain": [
       "<Figure size 432x288 with 2 Axes>"
      ]
     },
     "metadata": {
      "needs_background": "light"
     },
     "output_type": "display_data"
    },
    {
     "data": {
      "text/plain": [
       "'\\nfrom sklearn.metrics import confusion_matrix\\n\\nlabels = np.unique(y_res)\\na =  confusion_matrix(y_res, y_pred_class, labels=labels)\\n\\npd.DataFrame(a, index=labels, columns=labels)\\n'"
      ]
     },
     "execution_count": 16,
     "metadata": {},
     "output_type": "execute_result"
    }
   ],
   "source": [
    "from matplotlib import pyplot as plt\n",
    "\n",
    "def plot_confusion_matrix(cm, classes,\n",
    "                          normalize=False,\n",
    "                          title='Confusion matrix',\n",
    "                          cmap=plt.cm.Blues):\n",
    "    \"\"\"\n",
    "    This function prints and plots the confusion matrix.\n",
    "    Normalization can be applied by setting `normalize=True`.\n",
    "    \"\"\"\n",
    "    if normalize:\n",
    "        cm = cm.astype('float') / cm.sum(axis=1)[:, np.newaxis]\n",
    "        print(\"Normalized confusion matrix\")\n",
    "    else:\n",
    "        print('Confusion matrix, without normalization')\n",
    "\n",
    "    print(cm)\n",
    "\n",
    "    plt.imshow(cm, interpolation='nearest', cmap=cmap)\n",
    "    plt.title(title)\n",
    "    plt.colorbar()\n",
    "    tick_marks = np.arange(len(classes))\n",
    "    plt.xticks(tick_marks, classes, rotation=45)\n",
    "    plt.yticks(tick_marks, classes)\n",
    "\n",
    "    fmt = '.2f' if normalize else 'd'\n",
    "    thresh = cm.max() / 2.\n",
    "    for i in range (cm.shape[0]):\n",
    "        for j in range (cm.shape[1]):\n",
    "            plt.text(j, i, format(cm[i, j], fmt),\n",
    "                 horizontalalignment=\"center\",\n",
    "                 color=\"white\" if cm[i, j] > thresh else \"black\")\n",
    "\n",
    "    plt.ylabel('Predicted label')\n",
    "    plt.xlabel('True label')\n",
    "    plt.tight_layout()\n",
    "from sklearn.metrics import confusion_matrix\n",
    "\n",
    "# Compute confusion matrix\n",
    "cnf_matrix = confusion_matrix(y_test, y_pred_class)\n",
    "np.set_printoptions(precision=2)\n",
    "\n",
    "# Plot non-normalized confusion matrix\n",
    "plt.figure()\n",
    "plot_confusion_matrix(cnf_matrix, classes=['-1','1'],\n",
    "                      title='Confusion matrix')\n",
    "\n",
    "# Plot normalized confusion matrix\n",
    "#plt.figure()\n",
    "#plot_confusion_matrix(cnf_matrix, classes=['0','1'], normalize=True,\n",
    " #                     title='Normalized confusion matrix')\n",
    "\n",
    "plt.show()\n",
    " \n",
    "    \n",
    "\"\"\"\n",
    "from sklearn.metrics import confusion_matrix\n",
    "\n",
    "labels = np.unique(y_res)\n",
    "a =  confusion_matrix(y_res, y_pred_class, labels=labels)\n",
    "\n",
    "pd.DataFrame(a, index=labels, columns=labels)\n",
    "\"\"\""
   ]
  },
  {
   "cell_type": "markdown",
   "id": "dc4ea903",
   "metadata": {},
   "source": [
    "## SVM"
   ]
  },
  {
   "cell_type": "code",
   "execution_count": 17,
   "id": "6c146068",
   "metadata": {
    "scrolled": false
   },
   "outputs": [
    {
     "name": "stdout",
     "output_type": "stream",
     "text": [
      "accuracy: 0.878\n",
      "confusion matrix:\n",
      "[[946  35]\n",
      " [142 326]]\n",
      "classification report:\n",
      "              precision    recall  f1-score   support\n",
      "\n",
      "          -1       0.87      0.96      0.91       981\n",
      "           1       0.90      0.70      0.79       468\n",
      "\n",
      "    accuracy                           0.88      1449\n",
      "   macro avg       0.89      0.83      0.85      1449\n",
      "weighted avg       0.88      0.88      0.87      1449\n",
      "\n"
     ]
    }
   ],
   "source": [
    "from sklearn.model_selection import GridSearchCV\n",
    "from sklearn import svm\n",
    "params = {'kernel':('linear', 'rbf'), 'C':[1, 10, 100]}\n",
    "svcl = svm.SVC(kernel = 'rbf')\n",
    "svcl=svm.SVC(probability=True)\n",
    "clf_sv = GridSearchCV(svcl, params)\n",
    "svcl.fit(X_train_vec, y_train)\n",
    "\n",
    "# make class predictions for X_test_vec\n",
    "y_pred_class = svcl.predict(X_test_vec)\n",
    "\n",
    "from sklearn import metrics\n",
    "\n",
    "# calculate accuracy of class predictions\n",
    "print('accuracy: %.3f' % metrics.accuracy_score(y_test, y_pred_class))\n",
    "# confusion matrix\n",
    "print('confusion matrix:')\n",
    "print(metrics.confusion_matrix(y_test, y_pred_class))\n",
    "# classification report\n",
    "print('classification report:')\n",
    "print(metrics.classification_report(y_test, y_pred_class))"
   ]
  },
  {
   "cell_type": "code",
   "execution_count": 18,
   "id": "50ddcd2c",
   "metadata": {},
   "outputs": [
    {
     "name": "stdout",
     "output_type": "stream",
     "text": [
      "[[897  84]\n",
      " [116 352]]\n",
      "              precision    recall  f1-score   support\n",
      "\n",
      "          -1       0.89      0.91      0.90       981\n",
      "           1       0.81      0.75      0.78       468\n",
      "\n",
      "    accuracy                           0.86      1449\n",
      "   macro avg       0.85      0.83      0.84      1449\n",
      "weighted avg       0.86      0.86      0.86      1449\n",
      "\n"
     ]
    }
   ],
   "source": [
    "from sklearn.neural_network import MLPClassifier\n",
    "\n",
    "mlp = MLPClassifier(hidden_layer_sizes=(13,13,13),max_iter=500)\n",
    "mlp.fit(X_train_vec,y_train)\n",
    "predictions = mlp.predict(X_test_vec)\n",
    "\n",
    "from sklearn.metrics import classification_report,confusion_matrix\n",
    "print(confusion_matrix(y_test,predictions))\n",
    "print(classification_report(y_test,predictions))"
   ]
  },
  {
   "cell_type": "code",
   "execution_count": 19,
   "id": "9ae7f1d5",
   "metadata": {},
   "outputs": [
    {
     "name": "stdout",
     "output_type": "stream",
     "text": [
      "Confusion matrix, without normalization\n",
      "[[946  35]\n",
      " [142 326]]\n"
     ]
    },
    {
     "data": {
      "image/png": "[encoded data removed]",
      "text/plain": [
       "<Figure size 432x288 with 2 Axes>"
      ]
     },
     "metadata": {
      "needs_background": "light"
     },
     "output_type": "display_data"
    },
    {
     "data": {
      "text/plain": [
       "'\\nfrom sklearn.metrics import confusion_matrix\\n\\nlabels = np.unique(y_res)\\na =  confusion_matrix(y_res, y_pred_class, labels=labels)\\n\\npd.DataFrame(a, index=labels, columns=labels)\\n'"
      ]
     },
     "execution_count": 19,
     "metadata": {},
     "output_type": "execute_result"
    }
   ],
   "source": [
    "from matplotlib import pyplot as plt\n",
    "\n",
    "def plot_confusion_matrix(cm, classes,\n",
    "                          normalize=False,\n",
    "                          title='Confusion matrix',\n",
    "                          cmap=plt.cm.Blues):\n",
    "    \"\"\"\n",
    "    This function prints and plots the confusion matrix.\n",
    "    Normalization can be applied by setting `normalize=True`.\n",
    "    \"\"\"\n",
    "    if normalize:\n",
    "        cm = cm.astype('float') / cm.sum(axis=1)[:, np.newaxis]\n",
    "        print(\"Normalized confusion matrix\")\n",
    "    else:\n",
    "        print('Confusion matrix, without normalization')\n",
    "\n",
    "    print(cm)\n",
    "\n",
    "    plt.imshow(cm, interpolation='nearest', cmap=cmap)\n",
    "    plt.title(title)\n",
    "    plt.colorbar()\n",
    "    tick_marks = np.arange(len(classes))\n",
    "    plt.xticks(tick_marks, classes, rotation=45)\n",
    "    plt.yticks(tick_marks, classes)\n",
    "\n",
    "    fmt = '.2f' if normalize else 'd'\n",
    "    thresh = cm.max() / 2.\n",
    "    for i in range (cm.shape[0]):\n",
    "        for j in range (cm.shape[1]):\n",
    "            plt.text(j, i, format(cm[i, j], fmt),\n",
    "                 horizontalalignment=\"center\",\n",
    "                 color=\"white\" if cm[i, j] > thresh else \"black\")\n",
    "\n",
    "    plt.ylabel('Predicted label')\n",
    "    plt.xlabel('True label')\n",
    "    plt.tight_layout()\n",
    "from sklearn.metrics import confusion_matrix\n",
    "\n",
    "# Compute confusion matrix\n",
    "cnf_matrix = confusion_matrix(y_test, y_pred_class)\n",
    "np.set_printoptions(precision=2)\n",
    "\n",
    "# Plot non-normalized confusion matrix\n",
    "plt.figure()\n",
    "plot_confusion_matrix(cnf_matrix, classes=['-1','1'],\n",
    "                      title='Confusion matrix')\n",
    "\n",
    "# Plot normalized confusion matrix\n",
    "#plt.figure()\n",
    "#plot_confusion_matrix(cnf_matrix, classes=['0','1'], normalize=True,\n",
    " #                     title='Normalized confusion matrix')\n",
    "\n",
    "plt.show()\n",
    " \n",
    "    \n",
    "\"\"\"\n",
    "from sklearn.metrics import confusion_matrix\n",
    "\n",
    "labels = np.unique(y_res)\n",
    "a =  confusion_matrix(y_res, y_pred_class, labels=labels)\n",
    "\n",
    "pd.DataFrame(a, index=labels, columns=labels)\n",
    "\"\"\""
   ]
  },
  {
   "cell_type": "code",
   "execution_count": 20,
   "id": "a1f5a426",
   "metadata": {},
   "outputs": [
    {
     "name": "stdout",
     "output_type": "stream",
     "text": [
      "[[899  82]\n",
      " [118 350]]\n",
      "              precision    recall  f1-score   support\n",
      "\n",
      "          -1       0.88      0.92      0.90       981\n",
      "           1       0.81      0.75      0.78       468\n",
      "\n",
      "    accuracy                           0.86      1449\n",
      "   macro avg       0.85      0.83      0.84      1449\n",
      "weighted avg       0.86      0.86      0.86      1449\n",
      "\n"
     ]
    }
   ],
   "source": [
    "from sklearn.neural_network import MLPClassifier\n",
    "\n",
    "mlp = MLPClassifier(hidden_layer_sizes=(13,13,13),max_iter=500)\n",
    "mlp.fit(X_train_vec,y_train)\n",
    "predictions = mlp.predict(X_test_vec)\n",
    "\n",
    "from sklearn.metrics import classification_report,confusion_matrix\n",
    "print(confusion_matrix(y_test,predictions))\n",
    "print(classification_report(y_test,predictions))"
   ]
  },
  {
   "cell_type": "code",
   "execution_count": 21,
   "id": "8913f7b1",
   "metadata": {},
   "outputs": [
    {
     "name": "stdout",
     "output_type": "stream",
     "text": [
      "accuracy: 0.872\n",
      "accuracy: 0.872\n",
      "confusion matrix:\n",
      "[[955  26]\n",
      " [159 309]]\n",
      "classification report:\n",
      "              precision    recall  f1-score   support\n",
      "\n",
      "          -1       0.86      0.97      0.91       981\n",
      "           1       0.92      0.66      0.77       468\n",
      "\n",
      "    accuracy                           0.87      1449\n",
      "   macro avg       0.89      0.82      0.84      1449\n",
      "weighted avg       0.88      0.87      0.87      1449\n",
      "\n"
     ]
    }
   ],
   "source": [
    "from sklearn.linear_model import LogisticRegression\n",
    "logreg = LogisticRegression()\n",
    "logreg.fit(X_train_vec, y_train)\n",
    "# make class predictions for X_test_vec\n",
    "y_pred_class = logreg.predict(X_test_vec)\n",
    "# calculate accuracy of class predictions\n",
    "print('accuracy: %.3f' % metrics.accuracy_score(y_test, y_pred_class))\n",
    "# calculate cross-validated AUC\n",
    "\n",
    "from sklearn import metrics\n",
    "\n",
    "# calculate accuracy of class predictions\n",
    "print('accuracy: %.3f' % metrics.accuracy_score(y_test, y_pred_class))\n",
    "# confusion matrix\n",
    "print('confusion matrix:')\n",
    "print(metrics.confusion_matrix(y_test, y_pred_class))\n",
    "# classification report\n",
    "print('classification report:')\n",
    "print(metrics.classification_report(y_test, y_pred_class))"
   ]
  },
  {
   "cell_type": "code",
   "execution_count": 22,
   "id": "68cd101d",
   "metadata": {},
   "outputs": [
    {
     "name": "stdout",
     "output_type": "stream",
     "text": [
      "accuracy: 0.718\n",
      "confusion matrix:\n",
      "[[884  97]\n",
      " [311 157]]\n",
      "classification report:\n",
      "              precision    recall  f1-score   support\n",
      "\n",
      "          -1       0.74      0.90      0.81       981\n",
      "           1       0.62      0.34      0.43       468\n",
      "\n",
      "    accuracy                           0.72      1449\n",
      "   macro avg       0.68      0.62      0.62      1449\n",
      "weighted avg       0.70      0.72      0.69      1449\n",
      "\n"
     ]
    }
   ],
   "source": [
    "from sklearn.neighbors import KNeighborsClassifier\n",
    "neigh = KNeighborsClassifier(n_neighbors=3)\n",
    "neigh.fit(X_train_vec, y_train) \n",
    "y_pred_class = neigh.predict(X_test_vec)\n",
    "\n",
    "from sklearn import metrics\n",
    "\n",
    "# calculate accuracy of class predictions\n",
    "print('accuracy: %.3f' % metrics.accuracy_score(y_test, y_pred_class))\n",
    "# confusion matrix\n",
    "print('confusion matrix:')\n",
    "print(metrics.confusion_matrix(y_test, y_pred_class))\n",
    "# classification report\n",
    "print('classification report:')\n",
    "print(metrics.classification_report(y_test, y_pred_class))\n"
   ]
  },
  {
   "cell_type": "code",
   "execution_count": 23,
   "id": "ee0649ef",
   "metadata": {},
   "outputs": [
    {
     "name": "stdout",
     "output_type": "stream",
     "text": [
      "accuracy: 0.848\n",
      "confusion matrix:\n",
      "[[951  30]\n",
      " [190 278]]\n",
      "classification report:\n",
      "              precision    recall  f1-score   support\n",
      "\n",
      "          -1       0.83      0.97      0.90       981\n",
      "           1       0.90      0.59      0.72       468\n",
      "\n",
      "    accuracy                           0.85      1449\n",
      "   macro avg       0.87      0.78      0.81      1449\n",
      "weighted avg       0.86      0.85      0.84      1449\n",
      "\n"
     ]
    }
   ],
   "source": [
    "from sklearn.ensemble import RandomForestClassifier\n",
    "\n",
    "rf = RandomForestClassifier(n_estimators=100, random_state=0)\n",
    "rf.fit(X_train_vec, y_train)\n",
    "\n",
    "# make class predictions for X_test_vec\n",
    "y_pred_class = rf.predict(X_test_vec)\n",
    "\n",
    "from sklearn import metrics\n",
    "\n",
    "# calculate accuracy of class predictions\n",
    "print('accuracy: %.3f' % metrics.accuracy_score(y_test, y_pred_class))\n",
    "# confusion matrix\n",
    "print('confusion matrix:')\n",
    "print(metrics.confusion_matrix(y_test, y_pred_class))\n",
    "# classification report\n",
    "print('classification report:')\n",
    "print(metrics.classification_report(y_test, y_pred_class))"
   ]
  },
  {
   "cell_type": "code",
   "execution_count": null,
   "id": "8ae08c27",
   "metadata": {},
   "outputs": [],
   "source": []
  }
 ],
 "metadata": {
  "kernelspec": {
   "display_name": "Python 3 (ipykernel)",
   "language": "python",
   "name": "python3"
  },
  "language_info": {
   "codemirror_mode": {
    "name": "ipython",
    "version": 3
   },
   "file_extension": ".py",
   "mimetype": "text/x-python",
   "name": "python",
   "nbconvert_exporter": "python",
   "pygments_lexer": "ipython3",
   "version": "3.9.7"
  }
 },
 "nbformat": 4,
 "nbformat_minor": 5
}
