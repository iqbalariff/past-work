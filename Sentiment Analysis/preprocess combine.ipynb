{
 "cells": [
  {
   "cell_type": "code",
   "execution_count": 1,
   "id": "0ca05db1-e939-4f98-9b64-2a7e84ea8f05",
   "metadata": {},
   "outputs": [],
   "source": [
    "import matplotlib.pyplot as plt\n",
    "import os\n",
    "import re\n",
    "import shutil\n",
    "import string\n",
    "import tensorflow as tf\n",
    "\n",
    "from tensorflow.keras import regularizers\n",
    "from tensorflow.keras import layers\n",
    "from tensorflow.keras import losses\n",
    "\n",
    "from collections import Counter\n",
    "\n",
    "import pandas as pd\n",
    "import numpy as np\n",
    "\n",
    "from sklearn.preprocessing import LabelEncoder\n",
    "from sklearn.model_selection import train_test_split\n",
    "from sklearn.metrics import classification_report\n",
    "\n",
    "from tensorflow.keras import preprocessing\n",
    "from tensorflow.keras.preprocessing.text import Tokenizer\n",
    "from tensorflow.keras.preprocessing.sequence import pad_sequences\n",
    "\n",
    "import pydot"
   ]
  },
  {
   "cell_type": "code",
   "execution_count": 2,
   "id": "e211f3fb-730d-40d8-a43f-9e9f2545fb11",
   "metadata": {},
   "outputs": [
    {
     "data": {
      "text/plain": [
       "(240, 36)"
      ]
     },
     "execution_count": 2,
     "metadata": {},
     "output_type": "execute_result"
    }
   ],
   "source": [
    "df_digi_c = pd.read_csv('DIGI call.csv')\n",
    "\n",
    "df_digi_c.shape"
   ]
  },
  {
   "cell_type": "code",
   "execution_count": 3,
   "id": "efbcd216",
   "metadata": {},
   "outputs": [
    {
     "data": {
      "text/plain": [
       "(527, 36)"
      ]
     },
     "execution_count": 3,
     "metadata": {},
     "output_type": "execute_result"
    }
   ],
   "source": [
    "df_celcom_c = pd.read_csv('CELCOM call.csv')\n",
    "\n",
    "df_celcom_c.shape"
   ]
  },
  {
   "cell_type": "code",
   "execution_count": 4,
   "id": "426493b3",
   "metadata": {},
   "outputs": [
    {
     "data": {
      "text/plain": [
       "(357, 36)"
      ]
     },
     "execution_count": 4,
     "metadata": {},
     "output_type": "execute_result"
    }
   ],
   "source": [
    "df_maxis_c = pd.read_csv('MAXIS call.csv')\n",
    "\n",
    "df_maxis_c.shape"
   ]
  },
  {
   "cell_type": "code",
   "execution_count": 5,
   "id": "50fe9af8",
   "metadata": {},
   "outputs": [
    {
     "data": {
      "text/plain": [
       "(235, 36)"
      ]
     },
     "execution_count": 5,
     "metadata": {},
     "output_type": "execute_result"
    }
   ],
   "source": [
    "df_umobile_c = pd.read_csv('UMOBILE call.csv')\n",
    "\n",
    "df_umobile_c.shape"
   ]
  },
  {
   "cell_type": "code",
   "execution_count": 6,
   "id": "b843eb28",
   "metadata": {},
   "outputs": [
    {
     "data": {
      "text/plain": [
       "(338, 36)"
      ]
     },
     "execution_count": 6,
     "metadata": {},
     "output_type": "execute_result"
    }
   ],
   "source": [
    "df_unifi_c = pd.read_csv('UNIFI call.csv')\n",
    "\n",
    "df_unifi_c.shape"
   ]
  },
  {
   "cell_type": "code",
   "execution_count": 7,
   "id": "302a404a-52df-4ff5-ba7b-e553cb5cf75f",
   "metadata": {},
   "outputs": [],
   "source": [
    "data_digi_c = df_digi_c[['id','tweet', 'date']]\n",
    "data_celcom_c = df_celcom_c[['id', 'tweet', 'date']]\n",
    "data_maxis_c = df_maxis_c[['id', 'tweet', 'date']]\n",
    "data_umobile_c = df_umobile_c[['id', 'tweet', 'date']]\n",
    "data_unifi_c = df_unifi_c[['id', 'tweet', 'date']]"
   ]
  },
  {
   "cell_type": "code",
   "execution_count": 8,
   "id": "7181a4fa-1b70-4ff2-897a-4b3bfabf4a7a",
   "metadata": {},
   "outputs": [
    {
     "data": {
      "text/plain": [
       "(240, 4)"
      ]
     },
     "execution_count": 8,
     "metadata": {},
     "output_type": "execute_result"
    }
   ],
   "source": [
    "data_digi_c = data_digi_c.assign(Label = 'Digi Call')\n",
    "#data_digi.head()\n",
    "data_digi_c.shape"
   ]
  },
  {
   "cell_type": "code",
   "execution_count": 9,
   "id": "5c0e7e9d-d7b1-41b5-8a3c-c825544496b3",
   "metadata": {
    "scrolled": true
   },
   "outputs": [
    {
     "data": {
      "text/plain": [
       "(527, 4)"
      ]
     },
     "execution_count": 9,
     "metadata": {},
     "output_type": "execute_result"
    }
   ],
   "source": [
    "data_celcom_c = data_celcom_c.assign(Label = 'Celcom Call')\n",
    "#data_celcom.head()\n",
    "data_celcom_c.shape"
   ]
  },
  {
   "cell_type": "code",
   "execution_count": 10,
   "id": "5b41896e-9f23-4824-8d0f-eb399d598aee",
   "metadata": {},
   "outputs": [
    {
     "data": {
      "text/plain": [
       "(357, 4)"
      ]
     },
     "execution_count": 10,
     "metadata": {},
     "output_type": "execute_result"
    }
   ],
   "source": [
    "data_maxis_c = data_maxis_c.assign(Label = 'Maxis Call')\n",
    "#data_maxis.head()\n",
    "data_maxis_c.shape"
   ]
  },
  {
   "cell_type": "code",
   "execution_count": 11,
   "id": "f3636215-7127-4552-8e39-a0132e9dab6c",
   "metadata": {},
   "outputs": [
    {
     "data": {
      "text/plain": [
       "(235, 4)"
      ]
     },
     "execution_count": 11,
     "metadata": {},
     "output_type": "execute_result"
    }
   ],
   "source": [
    "data_umobile_c = data_umobile_c.assign(Label = 'Umobile Call')\n",
    "#data_umobile.head()\n",
    "data_umobile_c.shape"
   ]
  },
  {
   "cell_type": "code",
   "execution_count": 12,
   "id": "206a5532",
   "metadata": {},
   "outputs": [
    {
     "data": {
      "text/plain": [
       "(338, 4)"
      ]
     },
     "execution_count": 12,
     "metadata": {},
     "output_type": "execute_result"
    }
   ],
   "source": [
    "data_unifi_c = data_unifi_c.assign(Label = 'Unifi Call')\n",
    "#data_unifi.head()\n",
    "data_unifi_c.shape"
   ]
  },
  {
   "cell_type": "code",
   "execution_count": 13,
   "id": "f4b98100-9ecd-4148-9f69-6295b1242c63",
   "metadata": {},
   "outputs": [
    {
     "data": {
      "text/plain": [
       "(1697, 4)"
      ]
     },
     "execution_count": 13,
     "metadata": {},
     "output_type": "execute_result"
    }
   ],
   "source": [
    "frames = [data_digi_c, data_celcom_c, data_maxis_c, data_umobile_c, data_unifi_c]\n",
    "\n",
    "data = pd.concat(frames, ignore_index=True)\n",
    "data.shape"
   ]
  },
  {
   "cell_type": "code",
   "execution_count": 14,
   "id": "5e458a9d-683e-4a63-8019-ba4eadb3efab",
   "metadata": {
    "scrolled": true
   },
   "outputs": [
    {
     "data": {
      "text/plain": [
       "1273982497534013442    6\n",
       "1306120353979281409    6\n",
       "1257921197196509189    5\n",
       "1261644944403386370    5\n",
       "1268945290301542401    5\n",
       "                      ..\n",
       "1261173911078596609    1\n",
       "1261174115018264577    1\n",
       "1262278681830948865    1\n",
       "1262278983724326913    1\n",
       "1216798969478569984    1\n",
       "Name: id, Length: 1513, dtype: int64"
      ]
     },
     "execution_count": 14,
     "metadata": {},
     "output_type": "execute_result"
    }
   ],
   "source": [
    "data['id'].value_counts()"
   ]
  },
  {
   "cell_type": "code",
   "execution_count": 15,
   "id": "970470ea-2496-4a28-8e3f-4b5438ca2595",
   "metadata": {},
   "outputs": [],
   "source": [
    "test_data = data.loc[data['id'] == 1273982497534013442]"
   ]
  },
  {
   "cell_type": "code",
   "execution_count": 16,
   "id": "0f4a6f81-c9a8-4cb2-86bc-b70ad9869526",
   "metadata": {},
   "outputs": [
    {
     "data": {
      "text/html": [
       "<div>\n",
       "<style scoped>\n",
       "    .dataframe tbody tr th:only-of-type {\n",
       "        vertical-align: middle;\n",
       "    }\n",
       "\n",
       "    .dataframe tbody tr th {\n",
       "        vertical-align: top;\n",
       "    }\n",
       "\n",
       "    .dataframe thead th {\n",
       "        text-align: right;\n",
       "    }\n",
       "</style>\n",
       "<table border=\"1\" class=\"dataframe\">\n",
       "  <thead>\n",
       "    <tr style=\"text-align: right;\">\n",
       "      <th></th>\n",
       "      <th>id</th>\n",
       "      <th>tweet</th>\n",
       "      <th>date</th>\n",
       "      <th>Label</th>\n",
       "    </tr>\n",
       "  </thead>\n",
       "  <tbody>\n",
       "    <tr>\n",
       "      <th>26</th>\n",
       "      <td>1273982497534013442</td>\n",
       "      <td>@BefriendersKL @digitelco @myTMgroup @umobile ...</td>\n",
       "      <td>2020-06-19</td>\n",
       "      <td>Digi Call</td>\n",
       "    </tr>\n",
       "    <tr>\n",
       "      <th>179</th>\n",
       "      <td>1273982497534013442</td>\n",
       "      <td>@BefriendersKL @digitelco @myTMgroup @umobile ...</td>\n",
       "      <td>2020-06-19</td>\n",
       "      <td>Digi Call</td>\n",
       "    </tr>\n",
       "    <tr>\n",
       "      <th>601</th>\n",
       "      <td>1273982497534013442</td>\n",
       "      <td>@BefriendersKL @digitelco @myTMgroup @umobile ...</td>\n",
       "      <td>2020-06-19</td>\n",
       "      <td>Celcom Call</td>\n",
       "    </tr>\n",
       "    <tr>\n",
       "      <th>1026</th>\n",
       "      <td>1273982497534013442</td>\n",
       "      <td>@BefriendersKL @digitelco @myTMgroup @umobile ...</td>\n",
       "      <td>2020-06-19</td>\n",
       "      <td>Maxis Call</td>\n",
       "    </tr>\n",
       "    <tr>\n",
       "      <th>1247</th>\n",
       "      <td>1273982497534013442</td>\n",
       "      <td>@BefriendersKL @digitelco @myTMgroup @umobile ...</td>\n",
       "      <td>2020-06-19</td>\n",
       "      <td>Umobile Call</td>\n",
       "    </tr>\n",
       "    <tr>\n",
       "      <th>1591</th>\n",
       "      <td>1273982497534013442</td>\n",
       "      <td>@BefriendersKL @digitelco @myTMgroup @umobile ...</td>\n",
       "      <td>2020-06-19</td>\n",
       "      <td>Unifi Call</td>\n",
       "    </tr>\n",
       "  </tbody>\n",
       "</table>\n",
       "</div>"
      ],
      "text/plain": [
       "                       id                                              tweet  \\\n",
       "26    1273982497534013442  @BefriendersKL @digitelco @myTMgroup @umobile ...   \n",
       "179   1273982497534013442  @BefriendersKL @digitelco @myTMgroup @umobile ...   \n",
       "601   1273982497534013442  @BefriendersKL @digitelco @myTMgroup @umobile ...   \n",
       "1026  1273982497534013442  @BefriendersKL @digitelco @myTMgroup @umobile ...   \n",
       "1247  1273982497534013442  @BefriendersKL @digitelco @myTMgroup @umobile ...   \n",
       "1591  1273982497534013442  @BefriendersKL @digitelco @myTMgroup @umobile ...   \n",
       "\n",
       "            date         Label  \n",
       "26    2020-06-19     Digi Call  \n",
       "179   2020-06-19     Digi Call  \n",
       "601   2020-06-19   Celcom Call  \n",
       "1026  2020-06-19    Maxis Call  \n",
       "1247  2020-06-19  Umobile Call  \n",
       "1591  2020-06-19    Unifi Call  "
      ]
     },
     "execution_count": 16,
     "metadata": {},
     "output_type": "execute_result"
    }
   ],
   "source": [
    "test_data"
   ]
  },
  {
   "cell_type": "code",
   "execution_count": 17,
   "id": "cb509383-464e-4ca2-ba23-8796a0692b3f",
   "metadata": {},
   "outputs": [],
   "source": [
    "# dropping ALL duplicate values\n",
    "data.drop_duplicates(subset =\"id\",\n",
    "                     keep = False, inplace = True)"
   ]
  },
  {
   "cell_type": "code",
   "execution_count": 18,
   "id": "85b34ddc-ce9a-43dd-b7fb-2d47c1275a81",
   "metadata": {},
   "outputs": [
    {
     "data": {
      "text/plain": [
       "1269546883262775299    1\n",
       "1386311163152007172    1\n",
       "1348601230638006275    1\n",
       "1355429459256434691    1\n",
       "1358273041508167680    1\n",
       "                      ..\n",
       "1262640656469520389    1\n",
       "1262640764061806593    1\n",
       "1262640939840897024    1\n",
       "1262641161484636160    1\n",
       "1216798969478569984    1\n",
       "Name: id, Length: 1362, dtype: int64"
      ]
     },
     "execution_count": 18,
     "metadata": {},
     "output_type": "execute_result"
    }
   ],
   "source": [
    "data['id'].value_counts()"
   ]
  },
  {
   "cell_type": "code",
   "execution_count": 19,
   "id": "fddb46be-2bc1-4f43-b5d1-3513a331d678",
   "metadata": {},
   "outputs": [
    {
     "data": {
      "text/plain": [
       "(1362, 4)"
      ]
     },
     "execution_count": 19,
     "metadata": {},
     "output_type": "execute_result"
    }
   ],
   "source": [
    "data.shape"
   ]
  },
  {
   "cell_type": "code",
   "execution_count": 21,
   "id": "7d244fac-6d6f-44fe-80ae-7be7e7a9e66f",
   "metadata": {},
   "outputs": [
    {
     "data": {
      "text/plain": [
       "Celcom Call     462\n",
       "Unifi Call      303\n",
       "Maxis Call      299\n",
       "Umobile Call    193\n",
       "Digi Call       105\n",
       "Name: Label, dtype: int64"
      ]
     },
     "execution_count": 21,
     "metadata": {},
     "output_type": "execute_result"
    }
   ],
   "source": [
    "data['Label'].value_counts()"
   ]
  },
  {
   "cell_type": "code",
   "execution_count": 23,
   "id": "5081578d-738d-4f93-90eb-b6b3b557c498",
   "metadata": {},
   "outputs": [],
   "source": [
    "data.to_csv('COMBINE DATA CALL.csv', header=True)"
   ]
  },
  {
   "cell_type": "markdown",
   "id": "a8ff6150-a2a4-48ad-a954-7f352c51800a",
   "metadata": {},
   "source": [
    "Preprocess Data"
   ]
  },
  {
   "cell_type": "code",
   "execution_count": null,
   "id": "f07a0e47-7f05-4f06-b8e8-8b602593bd79",
   "metadata": {},
   "outputs": [],
   "source": [
    "def remove_emoji(text):\n",
    "    emoji_pattern = re.compile(\"[\"\n",
    "                           u\"\\U0001F600-\\U0001F64F\"  # emoticons\n",
    "                           u\"\\U0001F300-\\U0001F5FF\"  # symbols & pictographs\n",
    "                           u\"\\U0001F680-\\U0001F6FF\"  # transport & map symbols\n",
    "                           u\"\\U0001F1E0-\\U0001F1FF\"  # flags (iOS)\n",
    "                           u\"\\U00002702-\\U000027B0\"\n",
    "                           u\"\\U000024C2-\\U0001F251\"\n",
    "                           \"]+\", flags=re.UNICODE)\n",
    "    return emoji_pattern.sub(r'', text)\n",
    "\n",
    "def remove_url(text): \n",
    "    url_pattern  = re.compile('http[s]?://(?:[a-zA-Z]|[0-9]|[$-_@.&+]|[!*\\(\\),]|(?:%[0-9a-fA-F][0-9a-fA-F]))+')\n",
    "    return url_pattern.sub(r'', text)\n",
    " # converting return value from list to string\n",
    "\n",
    "\n",
    "\n",
    "def clean_text(text ): \n",
    "    delete_dict = {sp_character: '' for sp_character in string.punctuation} \n",
    "    delete_dict[' '] = ' ' \n",
    "    table = str.maketrans(delete_dict)\n",
    "    text1 = text.translate(table)\n",
    "    #print('cleaned:'+text1)\n",
    "    textArr= text1.split()\n",
    "    text2 = ' '.join([w for w in textArr if ( not w.isdigit() and  ( not w.isdigit() and len(w)>2))]) \n",
    "    \n",
    "    return text2.lower()"
   ]
  },
  {
   "cell_type": "code",
   "execution_count": null,
   "id": "c2d23932-7150-4d73-ba5c-a1710e52cb79",
   "metadata": {},
   "outputs": [],
   "source": [
    "dataset = pd.read_csv('dataset/combine_data.csv')\n",
    "dataset.dropna(axis = 0, how = 'any', inplace=True)\n",
    "dataset['Num_words_text'] = dataset['tweet'].apply(lambda x:len(str(x).split())) \n",
    "mask = dataset['Num_words_text'] >2\n",
    "dataset = dataset[mask]\n",
    "print('-------Train data--------')\n",
    "print(dataset['Label'].value_counts())\n",
    "print(len(dataset))\n",
    "print('-------------------------')\n",
    "max_dataset_sentence_length  = dataset['Num_words_text'].max()"
   ]
  },
  {
   "cell_type": "code",
   "execution_count": null,
   "id": "6b60b274-293a-4b4e-b030-7a2e9a8cad01",
   "metadata": {},
   "outputs": [],
   "source": [
    "dataset['tweet'].head()"
   ]
  },
  {
   "cell_type": "code",
   "execution_count": null,
   "id": "31f7ef2f-95e2-445d-b399-0ce45f2847c9",
   "metadata": {},
   "outputs": [],
   "source": [
    "dataset['tweet'] = dataset['tweet'].apply(remove_emoji)\n",
    "dataset['tweet'] = dataset['tweet'].apply(remove_url)\n",
    "dataset['tweet'] = dataset['tweet'].apply(clean_text)"
   ]
  },
  {
   "cell_type": "code",
   "execution_count": null,
   "id": "4dd3ef37-3be2-4c13-8228-675ef795a153",
   "metadata": {},
   "outputs": [],
   "source": [
    "dataset['tweet'].head()"
   ]
  },
  {
   "cell_type": "code",
   "execution_count": null,
   "id": "07a3b0ac-0512-47d0-b879-29ee3d2a9ac7",
   "metadata": {},
   "outputs": [],
   "source": [
    "print('Dataset Max Sentence Length :'+str(max_dataset_sentence_length))"
   ]
  },
  {
   "cell_type": "code",
   "execution_count": null,
   "id": "3ce54b74-0a2f-4e68-aff0-528cb8504efe",
   "metadata": {},
   "outputs": [],
   "source": []
  }
 ],
 "metadata": {
  "kernelspec": {
   "display_name": "Python 3 (ipykernel)",
   "language": "python",
   "name": "python3"
  },
  "language_info": {
   "codemirror_mode": {
    "name": "ipython",
    "version": 3
   },
   "file_extension": ".py",
   "mimetype": "text/x-python",
   "name": "python",
   "nbconvert_exporter": "python",
   "pygments_lexer": "ipython3",
   "version": "3.9.7"
  }
 },
 "nbformat": 4,
 "nbformat_minor": 5
}
