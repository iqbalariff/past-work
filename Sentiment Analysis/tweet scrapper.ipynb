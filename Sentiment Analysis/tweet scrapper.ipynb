{
 "cells": [
  {
   "cell_type": "code",
   "execution_count": 1,
   "id": "29e7db5f",
   "metadata": {},
   "outputs": [],
   "source": [
    "import twint\n",
    "import nest_asyncio\n",
    "nest_asyncio.apply()"
   ]
  },
  {
   "cell_type": "code",
   "execution_count": 2,
   "id": "0f7bfa28",
   "metadata": {},
   "outputs": [
    {
     "name": "stdout",
     "output_type": "stream",
     "text": [
      "1191515888614166528 2019-11-05 08:41:39 +0800 <zulhilmi_asyraf> seminggu hospital system down, seminggu la kena tahan maki. takpe saya ok 🙂\n",
      "1090409948872232960 2019-01-30 08:42:45 +0800 <hasyudeen> @BFMradio Didn’t realise private hospital system is evil, until this morning\n",
      "1089183357307482113 2019-01-26 23:28:43 +0800 <michaellahh> Dari dulu lagi sistem hospital kerajaan ni tak boleh pakai eksiden petang tengah malam baru nak buat operation\n",
      "1069555367934230528 2018-12-03 19:34:05 +0800 <aribahabdullah> Excuse me for my vulgarity today. I just got screwed by both the bank and hospital system today. Biasalah meleis.\n",
      "1068287700585697281 2018-11-30 07:36:50 +0800 <Super_Abez> When you are IT/computerised hospital system and your whole system is been hacked. 🙄 Da seminggu woi takleh buka folder hospital. Dah lah semua kerja dalam tu\n",
      "[!] No more data! Scraping will stop now.\n",
      "found 0 deleted tweets in this search.\n",
      "[+] Finished: Successfully collected 5 Tweets.\n"
     ]
    }
   ],
   "source": [
    "# Configure\n",
    "c = twint.Config()\n",
    "#c.Search =' \"@digitelco\" OR \"digi\" OR \"@maxis\" OR \"@hotlinkred\" OR \"@mobile_unifi\" OR \"#TimeFibre\" OR \"#TMunifi OR \"\" OR \"@unifi\" OR \"@helpmeunifi\" OR \"@MaxisListens\" OR \"@Celcom\" OR \"@umobile\" \"'\n",
    "c.Search =' \"sistem hospital kerajaan\" OR \"healthcare system government\" OR \"hospital system\"'\n",
    "#c.Search =' \"line slow\" OR \"line laju\" OR \"faster connection\" OR \"slower connection\" OR \"slow internet\" OR \"fast internet\" OR \"line internet\" OR \"internet slow\" OR \"\" OR \"fast internet\" OR \"good internet connection\" OR \"bad internet connection\" OR \"good telco service\" OR \"bad telco service\" '\n",
    "#c.Search =' \"digi\" OR \"\" OR \"unifi\" OR \"maxis\" OR \"celcom\" OR \"umobile\" '\n",
    "#c.Search = '\"internet slow\" OR \"\" OR \"fast internet\" OR \"good internet connection\" OR \"bad internet connection\" OR \"good telco service\" OR \"bad telco service\" '\n",
    "c.Lang = \"en\"\n",
    "c.Since = '2018-05-10 10:00:00'\n",
    "c.Until ='2020-02-24 10:00:00'\n",
    "c.Limit = 80000\n",
    "c.Count = True\n",
    "c.Store_csv = True\n",
    "c.Geo = \"4.210484, 101.975766, 300km\"\n",
    "c.Output = \"ADIB.csv\"\n",
    "\n",
    "# Run\n",
    "twint.run.Search(c)"
   ]
  },
  {
   "cell_type": "code",
   "execution_count": 3,
   "id": "1f2f40a5",
   "metadata": {},
   "outputs": [],
   "source": [
    "import pandas as pd"
   ]
  },
  {
   "cell_type": "code",
   "execution_count": 4,
   "id": "51e9b459",
   "metadata": {},
   "outputs": [],
   "source": [
    "data = pd.read_csv(\"ADIBl.csv\")"
   ]
  },
  {
   "cell_type": "code",
   "execution_count": 5,
   "id": "634bef84",
   "metadata": {},
   "outputs": [],
   "source": [
    "#eng_only = data.loc[data['language']==\"en\"]"
   ]
  },
  {
   "cell_type": "code",
   "execution_count": 6,
   "id": "4b7a8fba",
   "metadata": {},
   "outputs": [],
   "source": [
    "#eng_only.to_csv(\"CELCOM line.csv\")"
   ]
  },
  {
   "cell_type": "code",
   "execution_count": null,
   "id": "3df967a7",
   "metadata": {},
   "outputs": [],
   "source": []
  }
 ],
 "metadata": {
  "kernelspec": {
   "display_name": "Python 3 (ipykernel)",
   "language": "python",
   "name": "python3"
  },
  "language_info": {
   "codemirror_mode": {
    "name": "ipython",
    "version": 3
   },
   "file_extension": ".py",
   "mimetype": "text/x-python",
   "name": "python",
   "nbconvert_exporter": "python",
   "pygments_lexer": "ipython3",
   "version": "3.9.7"
  }
 },
 "nbformat": 4,
 "nbformat_minor": 5
}
